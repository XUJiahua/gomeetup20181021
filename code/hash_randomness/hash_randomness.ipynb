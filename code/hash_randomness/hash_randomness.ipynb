{
 "cells": [
  {
   "cell_type": "markdown",
   "metadata": {},
   "source": [
    "## 验证2次hash是否影响分片数据不均衡\n",
    "\n",
    "按照生产数据量预估，每个物理库的数据分片设为32，如下SQL语句。需要探讨的是2次hash会不会引起分片数据不均衡。\n",
    "\n",
    "```\n",
    "\n",
    "CREATE TABLE IF NOT EXISTS `coupon` (\n",
    "    ...\n",
    "    `uid` varchar(32) NOT NULL DEFAULT '' ,\n",
    "    `shard_id` bigint NOT NULL DEFAULT 0 \n",
    "    ...\n",
    ") ENGINE=InnoDB DEFAULT CHARSET=utf8 dbpartition by hash(shard_id) tbpartition by hash(shard_id) tbpartitions 32;\n",
    "// ) ENGINE=InnoDB DEFAULT CHARSET=utf8 dbpartition by hash(uid) tbpartition by hash(uid) tbpartitions 32;\n",
    "    \n",
    "```\n",
    "\n",
    "1. 一次hash：根据uid分片，只有一次数据库分片hash。\n",
    "1. 二次hash：根据uid的hash分片，数据库分片hash，加uid hash。\n",
    "\n",
    "ShardID = Hash1(UID) % 10000\n",
    "\n",
    "PartionedDBId = Hash2 ( ShardID ) % 32\n",
    "\n",
    "\n",
    "以下假设数据库中间件对分片键的hash算法为SHA256。实际效果以压测后的报告为准。"
   ]
  },
  {
   "cell_type": "code",
   "execution_count": 1,
   "metadata": {},
   "outputs": [],
   "source": [
    "import hashlib\n",
    "import uuid\n",
    "import matplotlib.pyplot as plt\n",
    "%matplotlib inline"
   ]
  },
  {
   "cell_type": "code",
   "execution_count": 2,
   "metadata": {},
   "outputs": [],
   "source": [
    "plt.rcParams[\"figure.figsize\"] = (20, 3)"
   ]
  },
  {
   "cell_type": "code",
   "execution_count": 3,
   "metadata": {},
   "outputs": [],
   "source": [
    "def sha256(text):\n",
    "    return hashlib.sha256(text).hexdigest()\n",
    "\n",
    "def gen_shard_id(text):\n",
    "    return int(sha256(text)[:4], 16) % 10000\n",
    "\n",
    "def gen_partition_id(text):\n",
    "    return int(sha256(text)[:2], 16) % 32"
   ]
  },
  {
   "cell_type": "code",
   "execution_count": 4,
   "metadata": {},
   "outputs": [],
   "source": [
    "class SerialGenerator:\n",
    "    def __init__(self, size):\n",
    "        self.size = size\n",
    "        self.offset = 0\n",
    "\n",
    "    def __iter__(self):\n",
    "        return self\n",
    "\n",
    "    def __next__(self):\n",
    "        if self.offset == self.size:\n",
    "            raise StopIteration\n",
    "\n",
    "        self.offset += 1\n",
    "        return \"u_{0:012d}\".format(self.offset)\n",
    "\n",
    "\n",
    "class RandomGenerator:\n",
    "    def __init__(self, size):\n",
    "        self.size = size\n",
    "        self.offset = 0\n",
    "\n",
    "    def __iter__(self):\n",
    "        return self\n",
    "\n",
    "    def __next__(self):\n",
    "        if self.offset == self.size:\n",
    "            raise StopIteration\n",
    "\n",
    "        self.offset += 1\n",
    "        return str(uuid.uuid4())"
   ]
  },
  {
   "cell_type": "code",
   "execution_count": 5,
   "metadata": {},
   "outputs": [],
   "source": [
    "# def plot_hist_10k(arr):\n",
    "#     plt.subplot(121)\n",
    "#     plt.hist(arr, bins=10000)\n",
    "#     plt.title('hist')\n",
    "\n",
    "# def plot_hist_32(arr):\n",
    "#     plt.subplot(122)\n",
    "#     plt.hist(arr, bins=32)\n",
    "#     plt.title('hist')\n",
    "    \n",
    "def plot_hist(arr, subplot, title):\n",
    "    plt.subplot(subplot)\n",
    "    plt.hist(arr, bins=32)\n",
    "    plt.title(title)"
   ]
  },
  {
   "cell_type": "code",
   "execution_count": 6,
   "metadata": {},
   "outputs": [
    {
     "data": {
      "image/png": "[encoded data removed]",
      "text/plain": [
       "<Figure size 1440x216 with 2 Axes>"
      ]
     },
     "metadata": {},
     "output_type": "display_data"
    }
   ],
   "source": [
    "# shard_id_list = []\n",
    "partition_id_list = []\n",
    "partition_id_list2 = []\n",
    "\n",
    "# for uid in RandomGenerator(100000):\n",
    "for uid in SerialGenerator(100000):\n",
    "    shard_id = gen_shard_id(uid.encode())\n",
    "#     shard_id_list.append(shard_id)\n",
    "    \n",
    "    partition_id = gen_partition_id(str(shard_id).encode())\n",
    "    partition_id_list.append(partition_id)\n",
    "    \n",
    "    partition_id2 = gen_partition_id(uid.encode())\n",
    "    partition_id_list2.append(partition_id)\n",
    "#     print(uid, shard_id, partition_id)\n",
    "\n",
    "# plot_hist_10k(shard_id_list)\n",
    "plot_hist(partition_id_list2, 121, \"one time HASH\")\n",
    "plot_hist(partition_id_list, 122, \"two time HASH\")"
   ]
  },
  {
   "cell_type": "code",
   "execution_count": null,
   "metadata": {},
   "outputs": [],
   "source": []
  }
 ],
 "metadata": {
  "kernelspec": {
   "display_name": "Python 3",
   "language": "python",
   "name": "python3"
  },
  "language_info": {
   "codemirror_mode": {
    "name": "ipython",
    "version": 3
   },
   "file_extension": ".py",
   "mimetype": "text/x-python",
   "name": "python",
   "nbconvert_exporter": "python",
   "pygments_lexer": "ipython3",
   "version": "3.6.5"
  },
  "varInspector": {
   "cols": {
    "lenName": 16,
    "lenType": 16,
    "lenVar": 40
   },
   "kernels_config": {
    "python": {
     "delete_cmd_postfix": "",
     "delete_cmd_prefix": "del ",
     "library": "var_list.py",
     "varRefreshCmd": "print(var_dic_list())"
    },
    "r": {
     "delete_cmd_postfix": ") ",
     "delete_cmd_prefix": "rm(",
     "library": "var_list.r",
     "varRefreshCmd": "cat(var_dic_list()) "
    }
   },
   "types_to_exclude": [
    "module",
    "function",
    "builtin_function_or_method",
    "instance",
    "_Feature"
   ],
   "window_display": false
  }
 },
 "nbformat": 4,
 "nbformat_minor": 2
}
